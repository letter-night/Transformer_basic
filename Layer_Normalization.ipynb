{
  "nbformat": 4,
  "nbformat_minor": 0,
  "metadata": {
    "colab": {
      "provenance": []
    },
    "kernelspec": {
      "name": "python3",
      "display_name": "Python 3"
    },
    "language_info": {
      "name": "python"
    }
  },
  "cells": [
    {
      "cell_type": "code",
      "source": [
        "import torch\n",
        "from torch import nn"
      ],
      "metadata": {
        "id": "bzL8mUrmACxJ"
      },
      "execution_count": 1,
      "outputs": []
    },
    {
      "cell_type": "code",
      "source": [
        "inputs = torch.Tensor([[[0.2, 0.1, 0.3], [0.5, 0.1, 0.1]]])\n",
        "\n",
        "B, S, E = inputs.size()\n",
        "inputs = inputs.reshape(S, B, E)\n",
        "inputs.size()"
      ],
      "metadata": {
        "colab": {
          "base_uri": "https://localhost:8080/"
        },
        "id": "HksSNZ2yAEzS",
        "outputId": "f39b8499-bb0b-4808-d57e-114b37cda5b2"
      },
      "execution_count": 2,
      "outputs": [
        {
          "output_type": "execute_result",
          "data": {
            "text/plain": [
              "torch.Size([2, 1, 3])"
            ]
          },
          "metadata": {},
          "execution_count": 2
        }
      ]
    },
    {
      "cell_type": "code",
      "source": [
        "parameter_shape = inputs.size()[-2:]\n",
        "gamma = nn.Parameter(torch.ones(parameter_shape))\n",
        "beta = nn.Parameter(torch.zeros(parameter_shape))"
      ],
      "metadata": {
        "id": "aNc6k_YNASfK"
      },
      "execution_count": 4,
      "outputs": []
    },
    {
      "cell_type": "code",
      "source": [
        "gamma.size(), beta.size()"
      ],
      "metadata": {
        "colab": {
          "base_uri": "https://localhost:8080/"
        },
        "id": "wrTwV17vAjaq",
        "outputId": "d347bb66-aa92-4655-aa9e-cbabd762ebcd"
      },
      "execution_count": 5,
      "outputs": [
        {
          "output_type": "execute_result",
          "data": {
            "text/plain": [
              "(torch.Size([1, 3]), torch.Size([1, 3]))"
            ]
          },
          "metadata": {},
          "execution_count": 5
        }
      ]
    },
    {
      "cell_type": "code",
      "source": [
        "dims = [-(i + 1) for i in range(len(parameter_shape))]"
      ],
      "metadata": {
        "id": "2BItQWOqArfR"
      },
      "execution_count": 6,
      "outputs": []
    },
    {
      "cell_type": "code",
      "source": [
        "dims"
      ],
      "metadata": {
        "colab": {
          "base_uri": "https://localhost:8080/"
        },
        "id": "9xGiXdWDAx-K",
        "outputId": "f158a61d-cf9d-4263-95d2-b02b5986ba32"
      },
      "execution_count": 7,
      "outputs": [
        {
          "output_type": "execute_result",
          "data": {
            "text/plain": [
              "[-1, -2]"
            ]
          },
          "metadata": {},
          "execution_count": 7
        }
      ]
    },
    {
      "cell_type": "code",
      "source": [
        "mean = inputs.mean(dim=dims, keepdim=True)\n",
        "mean.size()"
      ],
      "metadata": {
        "colab": {
          "base_uri": "https://localhost:8080/"
        },
        "id": "k0KY3A8xAzXr",
        "outputId": "f47e6806-65a6-4219-d0de-8fccada0ad79"
      },
      "execution_count": 8,
      "outputs": [
        {
          "output_type": "execute_result",
          "data": {
            "text/plain": [
              "torch.Size([2, 1, 1])"
            ]
          },
          "metadata": {},
          "execution_count": 8
        }
      ]
    },
    {
      "cell_type": "code",
      "source": [
        "mean"
      ],
      "metadata": {
        "colab": {
          "base_uri": "https://localhost:8080/"
        },
        "id": "NfHuRadnBU4C",
        "outputId": "6002c86c-7d30-4565-9583-a0a6b58604af"
      },
      "execution_count": 9,
      "outputs": [
        {
          "output_type": "execute_result",
          "data": {
            "text/plain": [
              "tensor([[[0.2000]],\n",
              "\n",
              "        [[0.2333]]])"
            ]
          },
          "metadata": {},
          "execution_count": 9
        }
      ]
    },
    {
      "cell_type": "code",
      "source": [
        "var = ((inputs - mean) ** 2).mean(dim=dims, keepdim=True)\n",
        "epsilon = 1e-5\n",
        "std = (var + epsilon).sqrt()\n",
        "std"
      ],
      "metadata": {
        "colab": {
          "base_uri": "https://localhost:8080/"
        },
        "id": "sarovLBFBXQ6",
        "outputId": "be062a9f-c187-4a7b-926c-50c3bf281962"
      },
      "execution_count": 10,
      "outputs": [
        {
          "output_type": "execute_result",
          "data": {
            "text/plain": [
              "tensor([[[0.0817]],\n",
              "\n",
              "        [[0.1886]]])"
            ]
          },
          "metadata": {},
          "execution_count": 10
        }
      ]
    },
    {
      "cell_type": "code",
      "source": [
        "y = (inputs - mean) / std\n",
        "y"
      ],
      "metadata": {
        "colab": {
          "base_uri": "https://localhost:8080/"
        },
        "id": "B_-eh8Y_BgzK",
        "outputId": "87e3a2c7-1c3a-4a3f-e398-1440ab6748d5"
      },
      "execution_count": 11,
      "outputs": [
        {
          "output_type": "execute_result",
          "data": {
            "text/plain": [
              "tensor([[[ 0.0000, -1.2238,  1.2238]],\n",
              "\n",
              "        [[ 1.4140, -0.7070, -0.7070]]])"
            ]
          },
          "metadata": {},
          "execution_count": 11
        }
      ]
    },
    {
      "cell_type": "code",
      "source": [
        "out = gamma * y + beta\n",
        "out"
      ],
      "metadata": {
        "colab": {
          "base_uri": "https://localhost:8080/"
        },
        "id": "IKZm31uwB9BC",
        "outputId": "eeb08163-ddfb-4b1c-e636-199b6f9f36d9"
      },
      "execution_count": 12,
      "outputs": [
        {
          "output_type": "execute_result",
          "data": {
            "text/plain": [
              "tensor([[[ 0.0000, -1.2238,  1.2238]],\n",
              "\n",
              "        [[ 1.4140, -0.7070, -0.7070]]], grad_fn=<AddBackward0>)"
            ]
          },
          "metadata": {},
          "execution_count": 12
        }
      ]
    },
    {
      "cell_type": "code",
      "source": [
        "class LayerNormalization():\n",
        "    def __init__(self, parameters_shape, eps=1e-5):\n",
        "        self.parameters_shape = parameters_shape\n",
        "        self.eps = eps\n",
        "        self.gamma = nn.Parameter(torch.ones(parameters_shape))\n",
        "        self.beta = nn.Parameter(torch.zeros(parameters_shape))\n",
        "\n",
        "    def forward(self, input):\n",
        "        dims = [-(i+1) for i in range(len(self.parameters_shape))]\n",
        "        mean = inputs.mean(dim=dims, keepdim=True)\n",
        "        print(f\"Mean \\n ({mean.size()}): \\n {mean}\")\n",
        "        var = ((inputs - mean) ** 2).mean(dim=dims, keepdim=True)\n",
        "        std = (var + self.eps).sqrt()\n",
        "        print(f\"Standard Deviation \\n ({std.size()}): \\n {std}\")\n",
        "        y = (inputs - mean) / std\n",
        "        print(f\"y \\n ({y.size()}) = \\n {y}\")\n",
        "        out = self.gamma * y + self.beta\n",
        "        print(f\"out \\n ({out.size()}) = \\n {out}\")\n",
        "        return out"
      ],
      "metadata": {
        "id": "dzs4Tf4LCCwp"
      },
      "execution_count": 17,
      "outputs": []
    },
    {
      "cell_type": "code",
      "source": [
        "batch_size = 3\n",
        "sentence_length = 5\n",
        "embedding_dim = 8\n",
        "\n",
        "inputs = torch.randn(sentence_length, batch_size, embedding_dim)\n",
        "\n",
        "print(f\"Input \\n ({inputs.size()}) = \\n {inputs}\")"
      ],
      "metadata": {
        "colab": {
          "base_uri": "https://localhost:8080/"
        },
        "id": "gyssw6d8DGzk",
        "outputId": "29b64a6c-b9f3-4881-ec96-69195a68cf37"
      },
      "execution_count": 15,
      "outputs": [
        {
          "output_type": "stream",
          "name": "stdout",
          "text": [
            "Input \n",
            " (torch.Size([5, 3, 8])) = \n",
            " tensor([[[ 0.6663, -0.6031, -0.1954, -0.4783, -0.1913, -2.1234,  1.4013,\n",
            "          -1.8660],\n",
            "         [-2.6459, -0.9321, -1.2232,  0.3879, -0.8330, -0.1635, -0.8674,\n",
            "           0.6379],\n",
            "         [-0.0296, -1.5482, -1.4638,  1.8920,  0.8234,  1.9997,  0.9654,\n",
            "          -0.6988]],\n",
            "\n",
            "        [[ 0.3853,  1.2258, -1.1657, -0.7474, -0.4420,  0.3952,  0.2892,\n",
            "           1.7438],\n",
            "         [ 0.4357,  0.2910, -0.0870, -0.8109, -0.4364, -0.5306, -1.1887,\n",
            "           0.5579],\n",
            "         [-0.1653,  1.5606, -0.2312, -0.3046, -0.9664, -0.9021, -0.1178,\n",
            "           0.5464]],\n",
            "\n",
            "        [[-0.5126, -0.6931, -1.3968, -0.2932,  0.4205, -1.1616, -0.7999,\n",
            "           0.6077],\n",
            "         [ 0.9497,  2.3231, -0.1199, -0.6458, -0.0829,  1.1362,  2.1374,\n",
            "           0.1906],\n",
            "         [ 0.1895,  0.4245,  0.7102, -0.8329, -1.7412, -0.5330, -0.4730,\n",
            "           0.3305]],\n",
            "\n",
            "        [[ 0.3882,  0.6321,  0.2389, -2.3705,  0.3904, -0.0395, -0.6019,\n",
            "          -0.1565],\n",
            "         [ 1.9020,  0.7406,  0.1209,  0.5734,  1.1019, -1.2507,  1.1683,\n",
            "          -1.5128],\n",
            "         [ 0.2935,  0.2927, -0.5380, -0.4954, -0.0309, -1.0619,  1.5999,\n",
            "           0.4900]],\n",
            "\n",
            "        [[-0.0430,  0.0155, -1.1428,  0.8913,  2.9225,  0.3909,  0.2337,\n",
            "          -0.4877],\n",
            "         [-0.1219,  0.3045, -0.2030,  1.2794,  0.5891,  1.5942,  0.9017,\n",
            "          -0.8080],\n",
            "         [ 1.0124,  1.1554,  0.3755, -1.5635, -0.4832,  0.3553,  0.2866,\n",
            "          -0.8233]]])\n"
          ]
        }
      ]
    },
    {
      "cell_type": "code",
      "source": [
        "layer_norm = LayerNormalization(inputs.size()[-1:])\n",
        "\n",
        "out = layer_norm.forward(inputs)"
      ],
      "metadata": {
        "colab": {
          "base_uri": "https://localhost:8080/"
        },
        "id": "1M6Cha5yDX9D",
        "outputId": "ff04c31d-ed6c-4188-e2fb-e341aa51e737"
      },
      "execution_count": 18,
      "outputs": [
        {
          "output_type": "stream",
          "name": "stdout",
          "text": [
            "Mean \n",
            " (torch.Size([5, 3, 1])): \n",
            " tensor([[[-0.4237],\n",
            "         [-0.7049],\n",
            "         [ 0.2425]],\n",
            "\n",
            "        [[ 0.2105],\n",
            "         [-0.2211],\n",
            "         [-0.0726]],\n",
            "\n",
            "        [[-0.4786],\n",
            "         [ 0.7360],\n",
            "         [-0.2407]],\n",
            "\n",
            "        [[-0.1898],\n",
            "         [ 0.3555],\n",
            "         [ 0.0687]],\n",
            "\n",
            "        [[ 0.3476],\n",
            "         [ 0.4420],\n",
            "         [ 0.0394]]])\n",
            "Standard Deviation \n",
            " (torch.Size([5, 3, 1])): \n",
            " tensor([[[1.0971],\n",
            "         [0.9631],\n",
            "         [1.3109]],\n",
            "\n",
            "        [[0.9145],\n",
            "         [0.5857],\n",
            "         [0.7605]],\n",
            "\n",
            "        [[0.6598],\n",
            "         [1.0185],\n",
            "         [0.7583]],\n",
            "\n",
            "        [[0.9000],\n",
            "         [1.1142],\n",
            "         [0.7581]],\n",
            "\n",
            "        [[1.1249],\n",
            "         [0.7564],\n",
            "         [0.8698]]])\n",
            "y \n",
            " (torch.Size([5, 3, 8])) = \n",
            " tensor([[[ 0.9936, -0.1635,  0.2081, -0.0497,  0.2119, -1.5492,  1.6635,\n",
            "          -1.3146],\n",
            "         [-2.0153, -0.2358, -0.5381,  1.1346, -0.1330,  0.5622, -0.1688,\n",
            "           1.3942],\n",
            "         [-0.2076, -1.3660, -1.3017,  1.2583,  0.4431,  1.3405,  0.5515,\n",
            "          -0.7181]],\n",
            "\n",
            "        [[ 0.1911,  1.1103, -1.5050, -1.0475, -0.7135,  0.2020,  0.0861,\n",
            "           1.6766],\n",
            "         [ 1.1213,  0.8744,  0.2290, -1.0069, -0.3676, -0.5283, -1.6519,\n",
            "           1.3299],\n",
            "         [-0.1220,  2.1474, -0.2086, -0.3051, -1.1753, -1.0908, -0.0595,\n",
            "           0.8139]],\n",
            "\n",
            "        [[-0.0514, -0.3251, -1.3915,  0.2810,  1.3627, -1.0351, -0.4869,\n",
            "           1.6464],\n",
            "         [ 0.2097,  1.5582, -0.8404, -1.3567, -0.8041,  0.3929,  1.3759,\n",
            "          -0.5356],\n",
            "         [ 0.5673,  0.8772,  1.2540, -0.7810, -1.9789, -0.3856, -0.3064,\n",
            "           0.7533]],\n",
            "\n",
            "        [[ 0.6423,  0.9134,  0.4764, -2.4231,  0.6448,  0.1671, -0.4578,\n",
            "           0.0370],\n",
            "         [ 1.3881,  0.3457, -0.2105,  0.1956,  0.6700, -1.4416,  0.7296,\n",
            "          -1.6768],\n",
            "         [ 0.2966,  0.2954, -0.8004, -0.7442, -0.1315, -1.4914,  2.0198,\n",
            "           0.5557]],\n",
            "\n",
            "        [[-0.3472, -0.2952, -1.3249,  0.4834,  2.2891,  0.0385, -0.1012,\n",
            "          -0.7425],\n",
            "         [-0.7455, -0.1818, -0.8528,  1.1070,  0.1945,  1.5233,  0.6077,\n",
            "          -1.6525],\n",
            "         [ 1.1187,  1.2830,  0.3864, -1.8428, -0.6008,  0.3632,  0.2842,\n",
            "          -0.9918]]])\n",
            "out \n",
            " (torch.Size([5, 3, 8])) = \n",
            " tensor([[[ 0.9936, -0.1635,  0.2081, -0.0497,  0.2119, -1.5492,  1.6635,\n",
            "          -1.3146],\n",
            "         [-2.0153, -0.2358, -0.5381,  1.1346, -0.1330,  0.5622, -0.1688,\n",
            "           1.3942],\n",
            "         [-0.2076, -1.3660, -1.3017,  1.2583,  0.4431,  1.3405,  0.5515,\n",
            "          -0.7181]],\n",
            "\n",
            "        [[ 0.1911,  1.1103, -1.5050, -1.0475, -0.7135,  0.2020,  0.0861,\n",
            "           1.6766],\n",
            "         [ 1.1213,  0.8744,  0.2290, -1.0069, -0.3676, -0.5283, -1.6519,\n",
            "           1.3299],\n",
            "         [-0.1220,  2.1474, -0.2086, -0.3051, -1.1753, -1.0908, -0.0595,\n",
            "           0.8139]],\n",
            "\n",
            "        [[-0.0514, -0.3251, -1.3915,  0.2810,  1.3627, -1.0351, -0.4869,\n",
            "           1.6464],\n",
            "         [ 0.2097,  1.5582, -0.8404, -1.3567, -0.8041,  0.3929,  1.3759,\n",
            "          -0.5356],\n",
            "         [ 0.5673,  0.8772,  1.2540, -0.7810, -1.9789, -0.3856, -0.3064,\n",
            "           0.7533]],\n",
            "\n",
            "        [[ 0.6423,  0.9134,  0.4764, -2.4231,  0.6448,  0.1671, -0.4578,\n",
            "           0.0370],\n",
            "         [ 1.3881,  0.3457, -0.2105,  0.1956,  0.6700, -1.4416,  0.7296,\n",
            "          -1.6768],\n",
            "         [ 0.2966,  0.2954, -0.8004, -0.7442, -0.1315, -1.4914,  2.0198,\n",
            "           0.5557]],\n",
            "\n",
            "        [[-0.3472, -0.2952, -1.3249,  0.4834,  2.2891,  0.0385, -0.1012,\n",
            "          -0.7425],\n",
            "         [-0.7455, -0.1818, -0.8528,  1.1070,  0.1945,  1.5233,  0.6077,\n",
            "          -1.6525],\n",
            "         [ 1.1187,  1.2830,  0.3864, -1.8428, -0.6008,  0.3632,  0.2842,\n",
            "          -0.9918]]], grad_fn=<AddBackward0>)\n"
          ]
        }
      ]
    },
    {
      "cell_type": "code",
      "source": [
        "out[0].mean(), out[0].std()"
      ],
      "metadata": {
        "colab": {
          "base_uri": "https://localhost:8080/"
        },
        "id": "jSB6lTCJDm9z",
        "outputId": "8fd4b0a5-504a-4d6f-f246-781433a90f02"
      },
      "execution_count": 19,
      "outputs": [
        {
          "output_type": "execute_result",
          "data": {
            "text/plain": [
              "(tensor(1.4901e-08, grad_fn=<MeanBackward0>),\n",
              " tensor(1.0215, grad_fn=<StdBackward0>))"
            ]
          },
          "metadata": {},
          "execution_count": 19
        }
      ]
    }
  ]
}